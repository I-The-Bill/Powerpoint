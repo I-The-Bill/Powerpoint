{
 "cells": [
  {
   "cell_type": "markdown",
   "id": "8cfa6cf3-1cdf-4669-a698-0aef803dbc00",
   "metadata": {},
   "source": [
    "WORK BY Bill L and Parker Manns"
   ]
  },
  {
   "cell_type": "code",
   "execution_count": null,
   "id": "0f7dcd7e-b5b3-463c-8a3d-edcde77bf532",
   "metadata": {},
   "outputs": [],
   "source": [
    "Write a string index that returns just the letter 'r'  from 'Hello World' ."
   ]
  },
  {
   "cell_type": "code",
   "execution_count": 1,
   "id": "00498bdb-a179-43d6-b442-ef8b1a77f744",
   "metadata": {},
   "outputs": [
    {
     "name": "stdout",
     "output_type": "stream",
     "text": [
      "r\n"
     ]
    }
   ],
   "source": [
    "st = 'Hello World'\n",
    "print(st[8])"
   ]
  },
  {
   "cell_type": "markdown",
   "id": "d57ba1ba-991c-430b-8388-4b41b81e9abc",
   "metadata": {},
   "source": [
    "Use string slicing to grab the word 'ink'  from inside 'tinker‘"
   ]
  },
  {
   "cell_type": "code",
   "execution_count": 3,
   "id": "a92f04f8-0684-4fc4-b0c9-4272d82b4918",
   "metadata": {},
   "outputs": [
    {
     "name": "stdout",
     "output_type": "stream",
     "text": [
      "ink\n"
     ]
    }
   ],
   "source": [
    "st = 'Tinker'\n",
    "print(st[1:4])"
   ]
  },
  {
   "cell_type": "markdown",
   "id": "6e253766-6249-401a-b647-287678fc07e6",
   "metadata": {},
   "source": [
    "Write an expression using any of the string formatting methods we have learned to return the phrase 'Python rules!‘"
   ]
  },
  {
   "cell_type": "code",
   "execution_count": 94,
   "id": "427cc11a-2d95-4a00-a9d2-074254c4a090",
   "metadata": {},
   "outputs": [
    {
     "name": "stdout",
     "output_type": "stream",
     "text": [
      "Python rules! \n",
      "python rules!\n"
     ]
    }
   ],
   "source": [
    "x = 'Python rules!'\n",
    "x = x.lower()\n",
    "xList = x.split(\" \")\n",
    "xList[0] = xList[0].capitalize()\n",
    "xSen = \"\"\n",
    "for i in xList:\n",
    "    xSen+= i+ ' '\n",
    "print(xSen)\n",
    "\n",
    "Print(f'{x}')"
   ]
  },
  {
   "cell_type": "markdown",
   "id": "f0707a57-7f9e-4311-83c8-ad83e910d5ac",
   "metadata": {},
   "source": [
    "Create a list that contains at least one string, one integer and one float."
   ]
  },
  {
   "cell_type": "code",
   "execution_count": 15,
   "id": "1f7794b6-0962-434d-b9b8-477c2d649445",
   "metadata": {},
   "outputs": [
    {
     "name": "stdout",
     "output_type": "stream",
     "text": [
      "['a String', 27, 3.141529]\n"
     ]
    }
   ],
   "source": [
    "daList = [\"a String\", 27,3.141529]\n",
    "print(daList)"
   ]
  },
  {
   "cell_type": "markdown",
   "id": "e06a46dd-cc8b-43a2-9ee1-57f419fcc8a5",
   "metadata": {},
   "source": [
    "Create a dictionary where all the keys are strings, and all the values are integers.\n"
   ]
  },
  {
   "cell_type": "code",
   "execution_count": 17,
   "id": "98275986-8e8c-4778-91e2-1c606f81f6c4",
   "metadata": {},
   "outputs": [
    {
     "name": "stdout",
     "output_type": "stream",
     "text": [
      "{'Alpha': 1, 'Beta': 2, 'Gamma': 3}\n"
     ]
    }
   ],
   "source": [
    "theDict = {'Alpha':1,'Beta':2,'Gamma':3}\n",
    "print(theDict)"
   ]
  },
  {
   "cell_type": "markdown",
   "id": "ecfe9660-b187-4a1d-a1c4-37456377e15f",
   "metadata": {},
   "source": [
    "Write an expression that would turn the string 'Mississippi'  into a set of unique letters.\n"
   ]
  },
  {
   "cell_type": "code",
   "execution_count": 21,
   "id": "90fa4888-99a2-4fc4-9588-88f75e393375",
   "metadata": {},
   "outputs": [
    {
     "name": "stdout",
     "output_type": "stream",
     "text": [
      "{'i', 's', 'p', 'M'}\n"
     ]
    }
   ],
   "source": [
    "state = 'Mississippi'\n",
    "letterSet = set(state)\n",
    "print(letterSet)"
   ]
  },
  {
   "cell_type": "markdown",
   "id": "ef56d40e-2309-4817-bc83-5d4fa0616795",
   "metadata": {},
   "source": [
    "Write a script that opens a file named 'test.txt' , writes 'Hello World'  to the file, then closes it.\n",
    "myfile = open('test.txt','w+')\n",
    "myfile.write('Hello World\\n')\n",
    "myfile.close()"
   ]
  },
  {
   "cell_type": "markdown",
   "id": "33caa4f4-35f3-4fb1-aab9-2408ec1216e7",
   "metadata": {},
   "source": [
    "Write a function called myfunc that prints the string 'Hello World'.\n"
   ]
  },
  {
   "cell_type": "code",
   "execution_count": 55,
   "id": "796ab11c-99a4-4f39-95dd-41ad317ab6e0",
   "metadata": {},
   "outputs": [],
   "source": [
    "def myfunc():\n",
    "    print('Hello World')"
   ]
  },
  {
   "cell_type": "code",
   "execution_count": 57,
   "id": "21b10586-cba0-418a-956b-6e6b3ce6c2d2",
   "metadata": {},
   "outputs": [
    {
     "name": "stdout",
     "output_type": "stream",
     "text": [
      "Hello World\n"
     ]
    }
   ],
   "source": [
    "myfunc()"
   ]
  },
  {
   "cell_type": "markdown",
   "id": "a87bdf29-7bed-4433-8f27-24aef18d6c65",
   "metadata": {},
   "source": [
    "Define a function called myfunc that takes in a name, and prints 'Hello Name‘\n"
   ]
  },
  {
   "cell_type": "code",
   "execution_count": 58,
   "id": "a64be98a-f241-4cf0-b3f1-a57fa13d458d",
   "metadata": {},
   "outputs": [],
   "source": [
    "def myfunc(name):\n",
    "    print(f'Hello {name}')"
   ]
  },
  {
   "cell_type": "code",
   "execution_count": 60,
   "id": "7f805530-64b9-4446-8a57-cb613a035c0f",
   "metadata": {},
   "outputs": [
    {
     "name": "stdout",
     "output_type": "stream",
     "text": [
      "Hello Bobbert\n"
     ]
    }
   ],
   "source": [
    "myfunc('Bobbert')"
   ]
  },
  {
   "cell_type": "markdown",
   "id": "7b623d4d-db32-43d6-9dba-f0d3a8fb72b9",
   "metadata": {},
   "source": [
    "Define a function called myfunc that takes in a Boolean value (True or False). If True, return 'Hello', and if False, return 'Goodbye‘"
   ]
  },
  {
   "cell_type": "code",
   "execution_count": 35,
   "id": "a00d5c20-f7b6-4f04-b7e0-11d3c139dffa",
   "metadata": {},
   "outputs": [],
   "source": [
    "def boolFunc(tOrF):\n",
    "    if tOrF == True:\n",
    "        return 'hello'\n",
    "    elif tOrF == False:\n",
    "        return 'Goodbye'\n",
    "    else:\n",
    "        print(\"That wasn't a boolean\")"
   ]
  },
  {
   "cell_type": "code",
   "execution_count": 61,
   "id": "47a6a7ef-8f45-41b4-8215-b07e0d137d7e",
   "metadata": {},
   "outputs": [
    {
     "data": {
      "text/plain": [
       "'hello'"
      ]
     },
     "execution_count": 61,
     "metadata": {},
     "output_type": "execute_result"
    }
   ],
   "source": [
    "boolFunc(True)"
   ]
  },
  {
   "cell_type": "code",
   "execution_count": 62,
   "id": "19d2b25d-6059-462e-8901-122e4650ed81",
   "metadata": {},
   "outputs": [
    {
     "data": {
      "text/plain": [
       "'Goodbye'"
      ]
     },
     "execution_count": 62,
     "metadata": {},
     "output_type": "execute_result"
    }
   ],
   "source": [
    "boolFunc(False)"
   ]
  },
  {
   "cell_type": "code",
   "execution_count": 63,
   "id": "fd63ae46-115c-4577-9307-ed8fbe81f5ca",
   "metadata": {},
   "outputs": [
    {
     "name": "stdout",
     "output_type": "stream",
     "text": [
      "That wasn't a boolean\n"
     ]
    }
   ],
   "source": [
    "boolFunc('Potatoes')"
   ]
  },
  {
   "cell_type": "markdown",
   "id": "368ec6d5-e0fd-4f22-a718-a7365f9dfc2f",
   "metadata": {},
   "source": [
    "Define a function called myfunc that takes three arguments, x, y and z.If z is True, return x.  If z is False, return y."
   ]
  },
  {
   "cell_type": "code",
   "execution_count": 71,
   "id": "72cc48f4-1ff4-49cc-898b-ca99ef10f99e",
   "metadata": {},
   "outputs": [],
   "source": [
    "def myfunc(x,y,z):\n",
    "    if z == True:\n",
    "        return  x\n",
    "    elif z == False:\n",
    "        return y\n",
    "    else:\n",
    "        print(\"That wasn't a boolean\")"
   ]
  },
  {
   "cell_type": "code",
   "execution_count": 72,
   "id": "a716c763-cb04-40cb-8229-47b9b3c59db0",
   "metadata": {},
   "outputs": [
    {
     "data": {
      "text/plain": [
       "1"
      ]
     },
     "execution_count": 72,
     "metadata": {},
     "output_type": "execute_result"
    }
   ],
   "source": [
    "myfunc(1,2,True)"
   ]
  },
  {
   "cell_type": "code",
   "execution_count": 73,
   "id": "1b717e0f-3821-4d81-b5ba-c91b6dcaffef",
   "metadata": {},
   "outputs": [
    {
     "data": {
      "text/plain": [
       "2"
      ]
     },
     "execution_count": 73,
     "metadata": {},
     "output_type": "execute_result"
    }
   ],
   "source": [
    "myfunc(1,2,False)"
   ]
  },
  {
   "cell_type": "code",
   "execution_count": 74,
   "id": "38a8201b-f91e-4f35-8637-ea6c02b3cd01",
   "metadata": {},
   "outputs": [
    {
     "name": "stdout",
     "output_type": "stream",
     "text": [
      "That wasn't a boolean\n"
     ]
    }
   ],
   "source": [
    "myfunc(1,2,'oof')"
   ]
  },
  {
   "cell_type": "markdown",
   "id": "5037cb1c-862d-4eb2-b533-d1c427b00520",
   "metadata": {},
   "source": [
    "Define a function called myfunc that takes in two arguments and returns their sum."
   ]
  },
  {
   "cell_type": "code",
   "execution_count": 77,
   "id": "a6d1a960-36df-40a7-a0b4-42c0097d9795",
   "metadata": {},
   "outputs": [],
   "source": [
    "def myfunc(x,y):\n",
    "    return (x+y)"
   ]
  },
  {
   "cell_type": "code",
   "execution_count": 78,
   "id": "b40f9e9f-1270-4361-bd93-ed09daae0057",
   "metadata": {},
   "outputs": [
    {
     "data": {
      "text/plain": [
       "13"
      ]
     },
     "execution_count": 78,
     "metadata": {},
     "output_type": "execute_result"
    }
   ],
   "source": [
    "myfunc(3,10)"
   ]
  },
  {
   "cell_type": "markdown",
   "id": "d359e436-be4d-4f16-9c96-2ac86790b9ea",
   "metadata": {},
   "source": [
    "Define a function called is_even that takes in one argument, and returns True if the passed-in value is even, False if it is not."
   ]
  },
  {
   "cell_type": "code",
   "execution_count": 89,
   "id": "f23679e7-2426-47d0-850b-bc5dbf7bb5ae",
   "metadata": {},
   "outputs": [],
   "source": [
    "def is_even(x):\n",
    "        if (x%2)==0:\n",
    "            return True\n",
    "        else:\n",
    "            return False"
   ]
  },
  {
   "cell_type": "code",
   "execution_count": 90,
   "id": "650d8eb7-4ff0-4c7c-811f-2b8480bf2f60",
   "metadata": {},
   "outputs": [
    {
     "data": {
      "text/plain": [
       "True"
      ]
     },
     "execution_count": 90,
     "metadata": {},
     "output_type": "execute_result"
    }
   ],
   "source": [
    "is_even(36)"
   ]
  },
  {
   "cell_type": "code",
   "execution_count": 91,
   "id": "6d9f3f34-53b4-429a-9be7-87238919d224",
   "metadata": {},
   "outputs": [
    {
     "data": {
      "text/plain": [
       "False"
      ]
     },
     "execution_count": 91,
     "metadata": {},
     "output_type": "execute_result"
    }
   ],
   "source": [
    "is_even(33)"
   ]
  },
  {
   "cell_type": "markdown",
   "id": "7f1d5c1f-d329-48ac-a4a6-879145271df1",
   "metadata": {},
   "source": [
    "Define a function called is_greater that takes in two arguments, and returns True if the first value is greater than the second, False if it is less than or equal to the second."
   ]
  },
  {
   "cell_type": "code",
   "execution_count": null,
   "id": "0a1d02f8-c988-47e2-9058-33821c470284",
   "metadata": {},
   "outputs": [],
   "source": [
    "def is_greater(x,y):\n",
    "    if x>y:\n",
    "        return True\n",
    "    else:\n",
    "        return False"
   ]
  },
  {
   "cell_type": "markdown",
   "id": "4cafb271-03de-44c6-936d-d70de74e559e",
   "metadata": {},
   "source": [
    "Define a function called myfunc that takes in an arbitrary number of arguments, and returns the sum of those arguments."
   ]
  },
  {
   "cell_type": "code",
   "execution_count": 41,
   "id": "b4d39e4c-66f7-4cb5-b4ad-0b68413a03ee",
   "metadata": {},
   "outputs": [],
   "source": [
    "def myfunc(*stuff):\n",
    "    toReturn = 0\n",
    "    for i in stuff:\n",
    "        toReturn += i\n",
    "    return toReturn"
   ]
  },
  {
   "cell_type": "markdown",
   "id": "ac405c33-e5c2-44da-9895-fcbc156818e5",
   "metadata": {},
   "source": [
    "Define a function called myfunc that takes in an arbitrary number of arguments, and returns a list containing only those arguments that are even"
   ]
  },
  {
   "cell_type": "code",
   "execution_count": 42,
   "id": "1adb22c7-ae71-44b9-8fbe-2c514ec9fd99",
   "metadata": {},
   "outputs": [],
   "source": [
    "def myfunc(*stuff):\n",
    "    toReturn = []\n",
    "    for i in stuff:\n",
    "        if is_even(i):\n",
    "            toReturn.append(i)\n",
    "    return toReturn"
   ]
  },
  {
   "cell_type": "markdown",
   "id": "b219efa7-a736-487b-abab-db42db86ac01",
   "metadata": {},
   "source": [
    "Define a function called myfunc that takes in a string, and returns a matching string where every even letter is uppercase, and every odd letter is lowercase. Assume that the incoming string only contains letters, and don't worry about numbers, spaces or punctuation. The output string can start with either an uppercase or lowercase letter, so long as letters alternate throughout the string."
   ]
  },
  {
   "cell_type": "code",
   "execution_count": 52,
   "id": "e91ad95a-5010-4540-bb67-62d8eb343355",
   "metadata": {},
   "outputs": [],
   "source": [
    "def myfunc(daString):\n",
    "    index = 0\n",
    "    flux = ''\n",
    "    for i in daString:\n",
    "        if (index%2) ==0:\n",
    "            flux += i.lower()\n",
    "        else:\n",
    "            flux += i.upper()\n",
    "        index+=1\n",
    "    return flux"
   ]
  },
  {
   "cell_type": "code",
   "execution_count": 54,
   "id": "d42d6b89-21fc-4870-9b80-1202063fbf66",
   "metadata": {},
   "outputs": [
    {
     "data": {
      "text/plain": [
       "\"dEfInE A FuNcTiOn cAlLeD MyFuNc tHaT TaKeS In a sTrInG, aNd rEtUrNs a mAtChInG StRiNg wHeRe eVeRy eVeN LeTtEr iS UpPeRcAsE, aNd eVeRy oDd lEtTeR Is lOwErCaSe. AsSuMe tHaT ThE InCoMiNg sTrInG OnLy cOnTaInS LeTtErS, aNd dOn't wOrRy aBoUt nUmBeRs, SpAcEs oR PuNcTuAtIoN. tHe oUtPuT StRiNg cAn sTaRt wItH EiThEr aN UpPeRcAsE Or lOwErCaSe lEtTeR, sO LoNg aS LeTtErS AlTeRnAtE ThRoUgHoUt tHe sTrInG.\""
      ]
     },
     "execution_count": 54,
     "metadata": {},
     "output_type": "execute_result"
    }
   ],
   "source": [
    "myfunc(\"Define a function called myfunc that takes in a string, and returns a matching string where every even letter is uppercase, and every odd letter is lowercase. Assume that the incoming string only contains letters, and don't worry about numbers, spaces or punctuation. The output string can start with either an uppercase or lowercase letter, so long as letters alternate throughout the string.\")"
   ]
  },
  {
   "cell_type": "code",
   "execution_count": null,
   "id": "4dd33810-d6ae-457e-af6f-66201ad0ec3b",
   "metadata": {},
   "outputs": [],
   "source": []
  }
 ],
 "metadata": {
  "kernelspec": {
   "display_name": "Python 3 (ipykernel)",
   "language": "python",
   "name": "python3"
  },
  "language_info": {
   "codemirror_mode": {
    "name": "ipython",
    "version": 3
   },
   "file_extension": ".py",
   "mimetype": "text/x-python",
   "name": "python",
   "nbconvert_exporter": "python",
   "pygments_lexer": "ipython3",
   "version": "3.9.13"
  }
 },
 "nbformat": 4,
 "nbformat_minor": 5
}
